{
 "cells": [
  {
   "cell_type": "markdown",
   "id": "4bafa331-42f7-41aa-9b92-534c1d1a4167",
   "metadata": {},
   "source": [
    "<h3> Computer Vision building blocks </h3>\n",
    "<p> I intend to use this notebook to implement the basic building blocks of all computer vision algorithms. I feel like I often forget what an implementation for a convolution looks like, or what erosion/dilation actually do under the hood. I hope to implement some of these building blocks here and use it as a reference to come back to, whenever I need to refresh certain concepts. </p>"
   ]
  },
  {
   "cell_type": "markdown",
   "id": "0415e25e-e444-4ac8-98f9-3cdf4ae5a75b",
   "metadata": {
    "tags": []
   },
   "source": [
    "<h4> Convolution </h4>"
   ]
  },
  {
   "cell_type": "code",
   "execution_count": 43,
   "id": "10af8e5e-e37b-4079-b747-ef6e8d635e55",
   "metadata": {},
   "outputs": [],
   "source": [
    "import numpy as np\n",
    "import cv2\n",
    "import math\n",
    "np.set_printoptions(suppress=True)  # suppress scientific notation"
   ]
  },
  {
   "cell_type": "code",
   "execution_count": 56,
   "id": "dec7aa75-543b-40de-bbd7-c071c0a583a0",
   "metadata": {},
   "outputs": [],
   "source": [
    "def convolution(input_matrix, conv_filter, stride=1, padding='valid'):\n",
    "    \"\"\"\n",
    "    Slide the conv_filter over input matrix\n",
    "    and do element-wise multiplication\n",
    "    \"\"\"\n",
    "    output_height = output_width = len(input_matrix) - len(conv_filter) + 1\n",
    "    output = np.zeros((output_height, output_width))\n",
    "    for i in range(0, output_height):\n",
    "        for j in range(0, output_width):\n",
    "            temp_output = input_matrix[i:i+len(conv_filter), j:j+len(conv_filter)] * conv_filter  # element-wise\n",
    "            output[i][j] = np.sum(temp_output)\n",
    "    \n",
    "    return output"
   ]
  },
  {
   "cell_type": "code",
   "execution_count": 92,
   "id": "39d33be6-4823-4b64-80e3-af405475260c",
   "metadata": {},
   "outputs": [],
   "source": [
    "def max_pooling(input_matrix, pool_size, stride=1):\n",
    "    output_height = output_width = len(input_matrix) - pool_size + 1 - stride\n",
    "    output = np.zeros((output_height, output_width))\n",
    "    for i in range(0, output_height):\n",
    "        for j in range(0, output_width):\n",
    "            if i == 0 and j == 0:\n",
    "                output[i][j] = np.max(input_matrix[i:i + pool_size, j:j + pool_size])\n",
    "            elif i == 0 and j > 0:\n",
    "                output[i][j] = np.max(input_matrix[i:i + pool_size, j + stride:j + stride + pool_size])\n",
    "            elif i > 0 and j == 0:\n",
    "                output[i][j] = np.max(input_matrix[i + stride:i + stride + pool_size, j:j + pool_size])\n",
    "            else: # i > 0 and j > 0\n",
    "                output[i][j] = np.max(input_matrix[i + stride:i + stride + pool_size, j + stride:j + stride + pool_size])\n",
    "    \n",
    "    return output"
   ]
  },
  {
   "cell_type": "code",
   "execution_count": 109,
   "id": "9a0c5bf6-f103-4ff4-85c2-c51af151d66c",
   "metadata": {},
   "outputs": [
    {
     "data": {
      "text/plain": [
       "array([[97., 90., 90., 82., 90.],\n",
       "       [97., 91., 91., 98., 98.],\n",
       "       [97., 91., 91., 98., 98.],\n",
       "       [97., 91., 91., 98., 98.],\n",
       "       [88., 91., 94., 98., 98.]])"
      ]
     },
     "execution_count": 109,
     "metadata": {},
     "output_type": "execute_result"
    }
   ],
   "source": [
    "A = np.array([[1, 2, 3, 4], [5, 6, 7, 8], [9, 10, 11, 12], [13, 14, 15, 16]])\n",
    "arr = np.random.randint(0, 100, (10, 10))\n",
    "conv_filter = np.array([[1, 1], [1, 1]])\n",
    "# convolution(A, conv_filter)\n",
    "max_pooling(arr, pool_size=5, stride=1)"
   ]
  },
  {
   "cell_type": "code",
   "execution_count": 99,
   "id": "11d7d7b8-bc4d-43a7-9329-7627e3591a26",
   "metadata": {},
   "outputs": [
    {
     "data": {
      "text/plain": [
       "array([[35, 90],\n",
       "       [22, 96]])"
      ]
     },
     "execution_count": 99,
     "metadata": {},
     "output_type": "execute_result"
    }
   ],
   "source": [
    "arr = np.random.randint(0, 100, (4, 4))\n",
    "arr[0:2, 0:2]"
   ]
  },
  {
   "cell_type": "markdown",
   "id": "b71762b3-586f-4269-827a-0f0087e7d57c",
   "metadata": {
    "tags": []
   },
   "source": [
    "<h4> Geometry </h4>\n",
    "<p>\n",
    "    Projective space: An extension of Euclidean space in which two lines always meet at a point.\n",
    "</p>"
   ]
  },
  {
   "cell_type": "markdown",
   "id": "2ec097bf-4bda-4da0-80f4-bda698dea9c8",
   "metadata": {
    "tags": []
   },
   "source": [
    "<h4> Distance metrics </h4>"
   ]
  },
  {
   "cell_type": "markdown",
   "id": "e7aef4f1-52c8-44d2-af17-ca30b7d82443",
   "metadata": {
    "tags": []
   },
   "source": [
    "<h4> Image transformation </h4>\n",
    "References: <br>\n",
    "https://docs.opencv.org/3.4/d4/d61/tutorial_warp_affine.html <br>\n",
    "https://docs.opencv.org/4.x/dd/d52/tutorial_js_geometric_transformations.html"
   ]
  },
  {
   "cell_type": "code",
   "execution_count": 35,
   "id": "c41f68ac-1a9d-48c1-bba4-2ef706c1c976",
   "metadata": {},
   "outputs": [],
   "source": [
    "def get_rotation_matrix(img_center, degrees, scale):\n",
    "    alpha = scale * math.cos(math.radians(degrees))  # cos(theta)\n",
    "    beta = scale * math.sin(math.radians(degrees))   # sin(theta)\n",
    "    return np.array([[alpha, beta, (1 - alpha) * center[0] - beta * center[1]],\n",
    "                             [-beta, alpha, beta * center[0] + (1 - alpha) * center[1]]])"
   ]
  },
  {
   "cell_type": "code",
   "execution_count": 48,
   "id": "7db5f56a-e686-4565-91df-a5b21d8e29fb",
   "metadata": {},
   "outputs": [],
   "source": [
    "def get_unscaled_rotation_matrix(degrees):\n",
    "    sin_theta = math.cos(math.radians(degrees))\n",
    "    cos_theta = math.sin(math.radians(degrees))\n",
    "    return np.array([[cos_theta, -sin_theta], [sin_theta, cos_theta]])"
   ]
  },
  {
   "cell_type": "code",
   "execution_count": 50,
   "id": "333a67a4-3efb-4ac3-a6fb-958235e5f74d",
   "metadata": {},
   "outputs": [
    {
     "name": "stdout",
     "output_type": "stream",
     "text": [
      "OpenCV rotation matrix\n",
      "[[  0.70710678   0.70710678 -53.01933598]\n",
      " [ -0.70710678   0.70710678 128.        ]]\n",
      "My rotation matrix\n",
      "[[  0.70710678   0.70710678 -53.01933598]\n",
      " [ -0.70710678   0.70710678 128.        ]]\n",
      "Unscaled rotation matrix\n",
      "[[ 0.70710678 -0.70710678]\n",
      " [ 0.70710678  0.70710678]]\n"
     ]
    }
   ],
   "source": [
    "img = cv2.imread('dog.jpeg')\n",
    "center = (img.shape[0] // 2, img.shape[1] // 2)\n",
    "degrees = 45\n",
    "scale = 1.0\n",
    "rot_mat = cv2.getRotationMatrix2D(center, degrees, scale)\n",
    "print('OpenCV rotation matrix')\n",
    "print(rot_mat)\n",
    "rot_mat = get_rotation_matrix(center, degrees, scale)\n",
    "print('My rotation matrix')\n",
    "print(rot_mat)\n",
    "print('Unscaled rotation matrix')\n",
    "rot_mat = get_unscaled_rotation_matrix(degrees)\n",
    "print(rot_mat)"
   ]
  },
  {
   "cell_type": "code",
   "execution_count": 53,
   "id": "a86c19e8-59bc-4ea5-8379-eba920f5ec4e",
   "metadata": {},
   "outputs": [],
   "source": [
    "# Rotate an image 90 degrees\n",
    "def rotate(img, degrees, scale):\n",
    "    img = cv2.imread(img)\n",
    "    center = (img.shape[0] // 2, img.shape[1] // 2)\n",
    "    rotation_matrix = cv2.getRotationMatrix2D(center, degrees, scale)\n",
    "    rotated_img = cv2.warpAffine(img, rotation_matrix, (img.shape[0], img.shape[1]))\n",
    "    cv2.imwrite('rotated_img.jpg', rotated_img)\n",
    "    return rotated_img"
   ]
  },
  {
   "cell_type": "code",
   "execution_count": 54,
   "id": "fe11108d-41a5-4eac-a5a0-dd8384e5e310",
   "metadata": {},
   "outputs": [
    {
     "data": {
      "text/plain": [
       "array([[[0, 0, 0],\n",
       "        [0, 0, 0],\n",
       "        [0, 0, 0],\n",
       "        ...,\n",
       "        [0, 0, 0],\n",
       "        [0, 0, 0],\n",
       "        [0, 0, 0]],\n",
       "\n",
       "       [[0, 0, 0],\n",
       "        [0, 0, 0],\n",
       "        [0, 0, 0],\n",
       "        ...,\n",
       "        [0, 0, 0],\n",
       "        [0, 0, 0],\n",
       "        [0, 0, 0]],\n",
       "\n",
       "       [[0, 0, 0],\n",
       "        [0, 0, 0],\n",
       "        [0, 0, 0],\n",
       "        ...,\n",
       "        [0, 0, 0],\n",
       "        [0, 0, 0],\n",
       "        [0, 0, 0]],\n",
       "\n",
       "       ...,\n",
       "\n",
       "       [[0, 0, 0],\n",
       "        [0, 0, 0],\n",
       "        [0, 0, 0],\n",
       "        ...,\n",
       "        [0, 0, 0],\n",
       "        [0, 0, 0],\n",
       "        [0, 0, 0]],\n",
       "\n",
       "       [[0, 0, 0],\n",
       "        [0, 0, 0],\n",
       "        [0, 0, 0],\n",
       "        ...,\n",
       "        [0, 0, 0],\n",
       "        [0, 0, 0],\n",
       "        [0, 0, 0]],\n",
       "\n",
       "       [[0, 0, 0],\n",
       "        [0, 0, 0],\n",
       "        [0, 0, 0],\n",
       "        ...,\n",
       "        [0, 0, 0],\n",
       "        [0, 0, 0],\n",
       "        [0, 0, 0]]], dtype=uint8)"
      ]
     },
     "execution_count": 54,
     "metadata": {},
     "output_type": "execute_result"
    }
   ],
   "source": [
    "rotate('dog.jpeg', degrees=-45, scale=1.0)"
   ]
  },
  {
   "cell_type": "code",
   "execution_count": null,
   "id": "182014e2-aedf-4b86-85da-2a7dabd0de9e",
   "metadata": {},
   "outputs": [],
   "source": []
  }
 ],
 "metadata": {
  "kernelspec": {
   "display_name": "algo_env",
   "language": "python",
   "name": "venv"
  },
  "language_info": {
   "codemirror_mode": {
    "name": "ipython",
    "version": 3
   },
   "file_extension": ".py",
   "mimetype": "text/x-python",
   "name": "python",
   "nbconvert_exporter": "python",
   "pygments_lexer": "ipython3",
   "version": "3.8.2"
  }
 },
 "nbformat": 4,
 "nbformat_minor": 5
}
